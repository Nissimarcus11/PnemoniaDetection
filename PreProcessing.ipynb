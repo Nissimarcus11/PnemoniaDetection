{
 "cells": [
  {
   "cell_type": "code",
   "execution_count": 17,
   "metadata": {
    "collapsed": true,
    "pycharm": {
     "name": "#%%\n"
    }
   },
   "outputs": [],
   "source": [
    "import matplotlib.pyplot as plt\n",
    "import tensorflow\n",
    "from tensorflow.keras.preprocessing import image\n",
    "from tensorflow.keras.layers import GlobalMaxPooling2D\n",
    "from tensorflow.keras.applications.resnet50 import ResNet50, preprocess_input\n",
    "import numpy as np\n",
    "from numpy.linalg import norm\n",
    "import os\n",
    "from tqdm import tqdm\n",
    "import pickle\n",
    "from sklearn.neighbors import NearestNeighbors"
   ]
  },
  {
   "cell_type": "code",
   "execution_count": 18,
   "outputs": [],
   "source": [
    "def extract_features(img_path, model):\n",
    "    img = image.load_img(img_path,target_size=(224,224))\n",
    "    img_array = image.img_to_array(img)\n",
    "    expanded_img_array = np.expand_dims(img_array,axis=0)\n",
    "    preprocessed_image = preprocess_input(expanded_img_array)\n",
    "    result = model.predict(preprocessed_image).flatten()\n",
    "    normalized_result = result/norm(result)\n",
    "    return normalized_result\n"
   ],
   "metadata": {
    "collapsed": false,
    "pycharm": {
     "name": "#%%\n"
    }
   }
  },
  {
   "cell_type": "code",
   "execution_count": 19,
   "outputs": [],
   "source": [
    "model = ResNet50(weights='imagenet', include_top=False, input_shape=(224, 224, 3)) # standard size\n",
    "model.trainable = False # model already trained, we just use the model\n",
    "model = tensorflow.keras.Sequential([\n",
    "    model,\n",
    "    GlobalMaxPooling2D()\n",
    "])"
   ],
   "metadata": {
    "collapsed": false,
    "pycharm": {
     "name": "#%%\n"
    }
   }
  },
  {
   "cell_type": "code",
   "execution_count": 20,
   "outputs": [
    {
     "name": "stdout",
     "output_type": "stream",
     "text": [
      "['NORMAL\\\\IM-0115-0001.jpeg', 'NORMAL\\\\IM-0117-0001.jpeg', 'NORMAL\\\\IM-0119-0001.jpeg', 'NORMAL\\\\IM-0122-0001.jpeg', 'NORMAL\\\\IM-0125-0001.jpeg']\n"
     ]
    }
   ],
   "source": [
    "#writing all the file names into a list\n",
    "filenames = []\n",
    "for file in os.listdir('NORMAL'):\n",
    "    filenames.append(os.path.join(\"NORMAL\",file))\n",
    "print(filenames[:5])\n",
    "pickle.dump(filenames,open(\"filenames.pkl\", \"wb\"))"
   ],
   "metadata": {
    "collapsed": false,
    "pycharm": {
     "name": "#%%\n"
    }
   }
  },
  {
   "cell_type": "code",
   "execution_count": 21,
   "outputs": [
    {
     "name": "stderr",
     "output_type": "stream",
     "text": [
      "100%|██████████| 1341/1341 [02:53<00:00,  7.73it/s]\n"
     ]
    }
   ],
   "source": [
    "feature_list = []\n",
    "for file in tqdm(filenames):\n",
    "    feature_list.append(extract_features(file,model))\n",
    "\n",
    "pickle.dump(feature_list,open(\"embeddings.pkl\", \"wb\"))"
   ],
   "metadata": {
    "collapsed": false,
    "pycharm": {
     "name": "#%%\n"
    }
   }
  },
  {
   "cell_type": "code",
   "execution_count": 22,
   "outputs": [
    {
     "name": "stdout",
     "output_type": "stream",
     "text": [
      "['PNEUMONIA\\\\person1000_bacteria_2931.jpeg', 'PNEUMONIA\\\\person1000_virus_1681.jpeg', 'PNEUMONIA\\\\person1001_bacteria_2932.jpeg', 'PNEUMONIA\\\\person1002_bacteria_2933.jpeg', 'PNEUMONIA\\\\person1003_bacteria_2934.jpeg']\n"
     ]
    }
   ],
   "source": [
    "\n",
    "#writing all the pnemonia file names into a list\n",
    "pneumonia_filenames = []\n",
    "for file in os.listdir('PNEUMONIA'):\n",
    "    pneumonia_filenames.append(os.path.join(\"PNEUMONIA\",file))\n",
    "print(pneumonia_filenames[:5])\n",
    "pickle.dump(pneumonia_filenames,open(\"pneumonia_filenames.pkl\", \"wb\"))"
   ],
   "metadata": {
    "collapsed": false,
    "pycharm": {
     "name": "#%%\n"
    }
   }
  },
  {
   "cell_type": "code",
   "execution_count": 23,
   "outputs": [
    {
     "name": "stderr",
     "output_type": "stream",
     "text": [
      "100%|██████████| 3875/3875 [08:33<00:00,  7.55it/s]\n"
     ]
    }
   ],
   "source": [
    "pneumonia_feature_list = []\n",
    "# pneumonia_filenames = pickle.load(open('pneumonia_filenames.pkl', 'rb'))\n",
    "for file in tqdm(pneumonia_filenames):\n",
    "    pneumonia_feature_list.append(extract_features(file,model))\n",
    "\n",
    "pickle.dump(pneumonia_feature_list,open(\"pneumonia_embeddings.pkl\", \"wb\"))"
   ],
   "metadata": {
    "collapsed": false,
    "pycharm": {
     "name": "#%%\n"
    }
   }
  },
  {
   "cell_type": "code",
   "execution_count": 36,
   "outputs": [
    {
     "name": "stdout",
     "output_type": "stream",
     "text": [
      "[0.00071658 0.02947818 0.         ... 0.01183914 0.00997011 0.02183572]\n"
     ]
    }
   ],
   "source": [
    "# getting features of test image\n",
    "test_file = \"AMS_icon.png\"\n",
    "test_features = extract_features(test_file,model)\n",
    "print(test_features)\n"
   ],
   "metadata": {
    "collapsed": false,
    "pycharm": {
     "name": "#%%\n"
    }
   }
  },
  {
   "cell_type": "code",
   "execution_count": 37,
   "outputs": [
    {
     "name": "stdout",
     "output_type": "stream",
     "text": [
      "[0.8948599]\n"
     ]
    }
   ],
   "source": [
    "neighbours = NearestNeighbors(n_neighbors=5, algorithm='brute', metric='euclidean')\n",
    "neighbours.fit(feature_list)\n",
    "distances, indices = neighbours.kneighbors([test_features])\n",
    "values = distances.mean(axis=1)\n",
    "print(values)"
   ],
   "metadata": {
    "collapsed": false,
    "pycharm": {
     "name": "#%%\n"
    }
   }
  },
  {
   "cell_type": "code",
   "execution_count": 38,
   "outputs": [
    {
     "name": "stdout",
     "output_type": "stream",
     "text": [
      "[0.89378387]\n"
     ]
    }
   ],
   "source": [
    "effected_neighbours = NearestNeighbors(n_neighbors=5, algorithm='brute', metric='euclidean')\n",
    "effected_neighbours.fit(pneumonia_feature_list)\n",
    "effected_distances, effected_indices = effected_neighbours.kneighbors([test_features])\n",
    "effected_values = effected_distances.mean(axis=1)\n",
    "print(effected_values)"
   ],
   "metadata": {
    "collapsed": false,
    "pycharm": {
     "name": "#%%\n"
    }
   }
  },
  {
   "cell_type": "code",
   "execution_count": 39,
   "outputs": [
    {
     "name": "stdout",
     "output_type": "stream",
     "text": [
      "Please upload a proper chest x-ray\n"
     ]
    }
   ],
   "source": [
    "if(values[0] <0.46):\n",
    "    print(\"The image is normal\")\n",
    "elif(effected_values[0]>0.5):\n",
    "    print(\"Please upload a proper chest x-ray\")\n",
    "else:\n",
    "    print(\"The image is a pnemonia\")"
   ],
   "metadata": {
    "collapsed": false,
    "pycharm": {
     "name": "#%%\n"
    }
   }
  }
 ],
 "metadata": {
  "kernelspec": {
   "display_name": "Python 3",
   "language": "python",
   "name": "python3"
  },
  "language_info": {
   "codemirror_mode": {
    "name": "ipython",
    "version": 2
   },
   "file_extension": ".py",
   "mimetype": "text/x-python",
   "name": "python",
   "nbconvert_exporter": "python",
   "pygments_lexer": "ipython2",
   "version": "2.7.6"
  }
 },
 "nbformat": 4,
 "nbformat_minor": 0
}